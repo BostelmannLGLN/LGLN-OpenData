{
 "cells": [
  {
   "cell_type": "markdown",
   "metadata": {},
   "source": [
    "# Digitales Daumenkino mit Satellitenbildern selbst erstellen\n",
    "16. Dezember 2021 - DGfK - CartoHack #08"
   ]
  },
  {
   "cell_type": "code",
   "execution_count": null,
   "metadata": {},
   "outputs": [],
   "source": [
    "from pathlib import Path\n",
    "import rasterio\n",
    "from rasterio.plot import show\n",
    "import matplotlib.pyplot as plt\n",
    "from IPython.display import IFrame\n",
    "\n",
    "import animation, functions"
   ]
  },
  {
   "cell_type": "code",
   "execution_count": null,
   "metadata": {},
   "outputs": [],
   "source": [
    "tmp_path = Path('sentinel-2-tmp')"
   ]
  },
  {
   "cell_type": "markdown",
   "metadata": {},
   "source": [
    "### Geometrie der Kacheln für Niedersachsen laden"
   ]
  },
  {
   "cell_type": "code",
   "execution_count": null,
   "metadata": {},
   "outputs": [],
   "source": [
    "name, be_name, area, tiles = functions.load_tiles(region='NI', use_cos=True)\n",
    "\n",
    "#name, be_name, area, tiles = functions.load_tiles(region='NI', landkreis='Hannover', use_cos=True)\n",
    "\n",
    "#tiles.plot(edgecolor='black', figsize=(16, 16))"
   ]
  },
  {
   "cell_type": "markdown",
   "metadata": {},
   "source": [
    "## Kachel und Zeitraum auswählen\n",
    "TODO: Auswahl per Karte"
   ]
  },
  {
   "cell_type": "code",
   "execution_count": null,
   "metadata": {},
   "outputs": [],
   "source": [
    "tiles.explore()"
   ]
  },
  {
   "cell_type": "markdown",
   "metadata": {},
   "source": [
    "### Alles Auswählen"
   ]
  },
  {
   "cell_type": "code",
   "execution_count": null,
   "metadata": {},
   "outputs": [],
   "source": [
    "selected_tiles = tiles"
   ]
  },
  {
   "cell_type": "markdown",
   "metadata": {},
   "source": [
    "### Einzelne Kacheln Auswählen (Beispiele)"
   ]
  },
  {
   "cell_type": "code",
   "execution_count": null,
   "metadata": {},
   "outputs": [],
   "source": [
    "tile_nrs = ['8-25245768']\n",
    "name = 'Hameln'"
   ]
  },
  {
   "cell_type": "code",
   "execution_count": null,
   "metadata": {},
   "outputs": [],
   "source": [
    "tile_nrs = ['8-25405800']\n",
    "name = 'Hannover-Limmer'"
   ]
  },
  {
   "cell_type": "code",
   "execution_count": null,
   "metadata": {},
   "outputs": [],
   "source": [
    "tile_nrs = ['8-25485800']\n",
    "name = 'Hannover-Eilenriede'"
   ]
  },
  {
   "cell_type": "code",
   "execution_count": null,
   "metadata": {},
   "outputs": [],
   "source": [
    "tile_nrs = ['8-25965736']\n",
    "name = 'Harz (Okertalsperre)'"
   ]
  },
  {
   "cell_type": "code",
   "execution_count": null,
   "metadata": {},
   "outputs": [],
   "source": [
    "tile_nrs = ['8-25885736']\n",
    "name = 'Clausthal-Zellerfeld'"
   ]
  },
  {
   "cell_type": "code",
   "execution_count": null,
   "metadata": {},
   "outputs": [],
   "source": [
    "selected_tiles = tiles[tiles['be8_nr'].isin(tile_nrs)]\n",
    "selected_tiles"
   ]
  },
  {
   "cell_type": "markdown",
   "metadata": {},
   "source": [
    "### Zeitraum und Dateiendung"
   ]
  },
  {
   "cell_type": "code",
   "execution_count": null,
   "metadata": {},
   "outputs": [],
   "source": [
    "# Datum\n",
    "date_str = '2021' # e.g. '20' or '2020' or '202009' or '20200921'\n",
    "\n",
    "# Dateiendung: z.B.: 'TCI_10m' oder '0m'\n",
    "channel = 'TCI_10m'"
   ]
  },
  {
   "cell_type": "markdown",
   "metadata": {},
   "source": [
    "## Kacheln vom COS laden"
   ]
  },
  {
   "cell_type": "code",
   "execution_count": null,
   "metadata": {},
   "outputs": [],
   "source": [
    "bucket = {\n",
    "    'endpoint_url': 'https://cloud.code-de.org:8080/swift/v1/AUTH_622a231224cb46c6982643e55e817c98/',\n",
    "    'name': 'tiles'\n",
    "}"
   ]
  },
  {
   "cell_type": "code",
   "execution_count": null,
   "metadata": {},
   "outputs": [],
   "source": [
    "selected_tiles, dates, tiles_count = functions.available_dates(selected_tiles, date_str, bucket)\n",
    "dates"
   ]
  },
  {
   "cell_type": "markdown",
   "metadata": {},
   "source": [
    "## Animation erstellen"
   ]
  },
  {
   "cell_type": "code",
   "execution_count": null,
   "metadata": {},
   "outputs": [],
   "source": [
    "logo_path = (Path('./logos/cartohack_logo_left.png'), Path('./logos/logo_right.png'))\n",
    "\n",
    "#dates = ['20170328','20210330'] # Beispiel Clausthal-Zellerfeld\n",
    "#dates = ['20160505', '20170719', '20180505', '20190425', '20200419', '20210509'] #Beispiel-Limmer\n",
    "\n",
    "for tile_nr in selected_tiles.index:\n",
    "    animation_path = animation.animate_tiles_from_cos(tile_nr, \n",
    "                                                dates, \n",
    "                                                bucket_credentials=bucket, \n",
    "                                                tmp_path=tmp_path,\n",
    "                                                type='mp4', \n",
    "                                                channel='TCI_10m', \n",
    "                                                duration=0.4,\n",
    "                                                add_bar=True, \n",
    "                                                add_name=True, \n",
    "                                                center_text='8 km x 8 km ',\n",
    "                                                logo_path=logo_path, \n",
    "                                                name=name)\n",
    "    \n",
    "IFrame(src=animation_path, width=840, height=980)"
   ]
  }
 ],
 "metadata": {
  "kernelspec": {
   "display_name": "Python [conda env:copernicus_env]",
   "language": "python",
   "name": "conda-env-copernicus_env-py"
  },
  "language_info": {
   "codemirror_mode": {
    "name": "ipython",
    "version": 3
   },
   "file_extension": ".py",
   "mimetype": "text/x-python",
   "name": "python",
   "nbconvert_exporter": "python",
   "pygments_lexer": "ipython3",
   "version": "3.8.12"
  }
 },
 "nbformat": 4,
 "nbformat_minor": 4
}
