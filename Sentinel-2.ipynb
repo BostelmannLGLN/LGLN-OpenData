{
 "cells": [
  {
   "cell_type": "markdown",
   "metadata": {},
   "source": [
    "*Das [LGLN] stellt zahlreiche offene Geodaten bereit. Diese Jupyter-Notebook-Serie demonstriert den Zugriff mit Python.*\n",
    "# Sentinel-2-Daten\n",
    "**Die Daten werden täglich aktualisiert. Wenn neue, wolkenfreie Sentinel-2-Aufnahmen entstanden sind, stehen diese ab ca. 23:30 Uhr zur Verfügung.** \n",
    " - Die [Sentinel-2]-Daten sind Teil des [Copernicus]-Programms der Europäischen Union\n",
    " - Verarbeitung und Bereitstellung durch das [LGLN] auf [CODE-DE]\n",
    " - Feedback zu den Daten an: jonas.bostelmann@lgln.niedersachsen.de\n",
    " - Lizenz: [Creative Commons (CC BY 4.0)], Enthält modifzierte Copernicus Sentinel Daten 2021, verarbeitet durch das Landesamt für Geoinformation und Landesvermessung Niedersachsen (LGLN)\n",
    " \n",
    "[Sentinel-2]: https://sentinel.esa.int/web/sentinel/user-guides/sentinel-2-msi\n",
    "[Copernicus]: https://www.copernicus.eu/de\n",
    "[CODE-DE]: https://code-de.org/de/\n",
    "[LGLN]: www.lgln.niedersachsen.de\n",
    "[Creative Commons (CC BY 4.0)]: https://creativecommons.org/licenses/by/4.0/deed.de"
   ]
  },
  {
   "cell_type": "markdown",
   "metadata": {},
   "source": [
    "### Installation benötigter Python Pakete\n",
    "https://github.com/BostelmannLGLN/LGLN-OpenData-Notebooks/blob/main/requirements.txt"
   ]
  },
  {
   "cell_type": "code",
   "execution_count": null,
   "metadata": {},
   "outputs": [],
   "source": [
    "# !pip install -r requirements.txt"
   ]
  },
  {
   "cell_type": "markdown",
   "metadata": {},
   "source": [
    "#### Imports"
   ]
  },
  {
   "cell_type": "code",
   "execution_count": null,
   "metadata": {},
   "outputs": [],
   "source": [
    "import rasterio\n",
    "from rasterio.plot import show, plotting_extent\n",
    "import matplotlib.pyplot as plt\n",
    "import numpy as np\n",
    "import functions"
   ]
  },
  {
   "cell_type": "markdown",
   "metadata": {},
   "source": [
    "## Sentinel-2-Kacheln - 8 km x 8 km - Wenig Wolken - True Color Image (TCI) - 10 m Bodenpixelgröße"
   ]
  },
  {
   "cell_type": "markdown",
   "metadata": {},
   "source": [
    "### Download einer einzelnen Kachel"
   ]
  },
  {
   "cell_type": "code",
   "execution_count": null,
   "metadata": {},
   "outputs": [],
   "source": [
    "endpoint_url = 'https://cloud.code-de.org:8080/swift/v1/AUTH_622a231224cb46c6982643e55e817c98/'\n",
    "bucket_name = 'tiles'\n",
    "\n",
    "be8_nr = '8-25405800'\n",
    "datensatz = 'S2'\n",
    "datum = '20200921'\n",
    "dateityp = 'TCI_10m.tif'\n",
    "\n",
    "obj = f'{be8_nr}/{datensatz}/{datum}/{be8_nr}_{datensatz}_{datum}_TCI_10m.tif'\n",
    "\n",
    "url = endpoint_url + f'{bucket_name}/{obj}'\n",
    "\n",
    "print(f'Download-URL: \\n{url}')"
   ]
  },
  {
   "cell_type": "markdown",
   "metadata": {},
   "source": [
    "### Laden und Anzeigen mit Rasterio"
   ]
  },
  {
   "cell_type": "code",
   "execution_count": null,
   "metadata": {},
   "outputs": [],
   "source": [
    "with rasterio.open(url) as image:\n",
    "        plt.figure(figsize=(10, 10))    \n",
    "        ax = show(image.read())"
   ]
  },
  {
   "cell_type": "markdown",
   "metadata": {},
   "source": [
    "## Anzahl verfügbarer Kacheln anzeigen"
   ]
  },
  {
   "cell_type": "markdown",
   "metadata": {},
   "source": [
    "### Gebiet auswählen"
   ]
  },
  {
   "cell_type": "code",
   "execution_count": null,
   "metadata": {},
   "outputs": [],
   "source": [
    "landkreis = 'Hannover' # None for all of Niedersachsen\n",
    "\n",
    "name, be_name, area, tiles = functions.load_tiles(region='NI', landkreis=landkreis, use_cos=True)\n",
    "\n",
    "ax = tiles.plot(figsize=(15, 15), legend=True, edgecolor='black')\n",
    "area.boundary.plot(ax=ax, edgecolor='black')\n",
    "\n",
    "tiles"
   ]
  },
  {
   "cell_type": "markdown",
   "metadata": {},
   "source": [
    "### Zeitraum wählen und Daten laden"
   ]
  },
  {
   "cell_type": "code",
   "execution_count": null,
   "metadata": {},
   "outputs": [],
   "source": [
    "date_str = '2021'\n",
    "\n",
    "bucket = {\n",
    "    'endpoint_url': endpoint_url,\n",
    "    'name': bucket_name\n",
    "}\n",
    "\n",
    "tiles, dates, tiles_count = functions.available_dates(tiles, date_str, bucket)\n",
    "tiles"
   ]
  },
  {
   "cell_type": "markdown",
   "metadata": {},
   "source": [
    "### Plotten"
   ]
  },
  {
   "cell_type": "code",
   "execution_count": null,
   "metadata": {},
   "outputs": [],
   "source": [
    "ax = tiles.plot(column='S2', figsize=(15, 15), legend=True, edgecolor='black')\n",
    "area.boundary.plot(ax=ax, edgecolor='black')\n",
    "\n",
    "tiles.apply(lambda x: ax.annotate(text=int(x.S2), xy=x.geometry.centroid.coords[0], ha='center', color='red', fontsize='x-large'), axis=1);"
   ]
  },
  {
   "cell_type": "markdown",
   "metadata": {},
   "source": [
    "## Sentinel-2-Landkreis-Mosaike - Wenig Wolken"
   ]
  },
  {
   "cell_type": "code",
   "execution_count": null,
   "metadata": {},
   "outputs": [],
   "source": [
    "endpoint_url = 'https://cloud.code-de.org:8080/swift/v1/AUTH_622a231224cb46c6982643e55e817c98/'\n",
    "bucket_name = 'mosaics'\n",
    "\n",
    "landkreis = landkreis\n",
    "datum = '20200921'\n",
    "datensatz = 'S2'\n",
    "\n",
    "mosaic_obj = f'{landkreis}_{datum}_{datensatz}.tif'\n",
    "\n",
    "mosaic_url = endpoint_url + f'{bucket_name}/{mosaic_obj}'\n",
    "\n",
    "print(f'Download-URL: \\n{mosaic_url}')"
   ]
  },
  {
   "cell_type": "code",
   "execution_count": null,
   "metadata": {},
   "outputs": [],
   "source": [
    "with rasterio.open(mosaic_url) as mosaic:\n",
    "    mosaic_data = mosaic.read()\n",
    "    mosaic_data[mosaic_data==0] = np.max(mosaic_data) # weißer hintergrund\n",
    "    mosaic_extend = plotting_extent(mosaic)\n",
    "    print(mosaic.profile)\n",
    "    plt.figure(figsize=(15, 15))    \n",
    "    ax = show(mosaic_data)"
   ]
  },
  {
   "cell_type": "code",
   "execution_count": null,
   "metadata": {},
   "outputs": [],
   "source": [
    "name, be_name, area, tiles = functions.load_tiles(region='NI', use_cos=True)"
   ]
  },
  {
   "cell_type": "code",
   "execution_count": null,
   "metadata": {},
   "outputs": [],
   "source": [
    "fig, ax = plt.subplots(figsize=(15, 15))\n",
    "rasterio.plot.show(mosaic_data, ax=ax, extent=mosaic_extend)\n",
    "area.plot(ax=ax, legend=True, edgecolor='red', facecolor='none')\n",
    "area.apply(lambda x: ax.annotate(text=x.BEZ_KRS, \n",
    "                                 xy=x.geometry.centroid.coords[0], \n",
    "                                 ha='center', color='black', \n",
    "                                 fontsize='medium'), \n",
    "                                 axis=1);"
   ]
  }
 ],
 "metadata": {
  "kernelspec": {
   "display_name": "Python 3 (ipykernel)",
   "language": "python",
   "name": "python3"
  },
  "language_info": {
   "codemirror_mode": {
    "name": "ipython",
    "version": 3
   },
   "file_extension": ".py",
   "mimetype": "text/x-python",
   "name": "python",
   "nbconvert_exporter": "python",
   "pygments_lexer": "ipython3",
   "version": "3.7.3"
  },
  "toc-autonumbering": false,
  "toc-showmarkdowntxt": false
 },
 "nbformat": 4,
 "nbformat_minor": 4
}
